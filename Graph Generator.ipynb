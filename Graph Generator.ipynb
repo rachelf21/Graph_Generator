{
 "cells": [
  {
   "cell_type": "code",
   "execution_count": 1,
   "metadata": {
    "collapsed": true
   },
   "outputs": [],
   "source": [
    "import numpy as np\n",
    "import networkx as nx\n",
    "#from networkx.classes.multigraph import MultiGraph\n",
    "import matplotlib.pyplot as plt\n",
    "import matplotlib.cm as cm\n",
    "\n",
    "nodes = []\n",
    "vertex_pairs = []\n",
    "labels = {}"
   ]
  },
  {
   "cell_type": "markdown",
   "metadata": {},
   "source": [
    "# Functions\n",
    "1. `enter_nodes()`:  User is prompted to enter list of vertices in graph\n",
    "1. `enter_single_edge_per_node(nodes, vertex_pairs)`: User is prompted to enter an adjacent edge for given vertex\n",
    "1. `enter_multiple_edges_per_node(nodes, vertex_pairs): `User is prompted to enter adjacent edges for given vertex\n",
    "1. `create_edge_labels(vertex_pairs, labels, nodes)`: Create labels for edges\n",
    "1. `create_graph(labels)`: Create the graph based on vertices and labels\n",
    "1. `print_adj_matrix(graph)`: Print an adjacency matrix\n",
    "1. `print_graph_stats(graph)`: Print vertex pairs and edges and other graph statistics\n",
    "1. `print_matrix(graph)`: Print visual matrix representation of graph\n",
    "1. `print_path(graph,start,end)`: Print path with no repeating vertices given starting and ending vertex\n",
    "1. 'print_cycle(graph,start,end): to be implemented"
   ]
  },
  {
   "cell_type": "code",
   "execution_count": 2,
   "metadata": {
    "collapsed": true
   },
   "outputs": [],
   "source": [
    "def enter_nodes():\n",
    "    n = int(input(\"Enter the amount of nodes you wish to add: \"))\n",
    "    #need error handling for invalid entry\n",
    "    for i in range(n):\n",
    "        node = input(\"Enter node \" + str(i+1) + \": \")\n",
    "        nodes.append(node)\n",
    "    return nodes\n",
    "    \n",
    "def enter_single_edge_per_node(nodes, vertex_pairs):   \n",
    "    for i in range(len(nodes)):\n",
    "        v2 = input(\"Enter the adjacent vertex for node \" + nodes[i] +\": \")\n",
    "        while v2 not in nodes:\n",
    "            print(\"Invalid vertex. This vertex was not added.\")\n",
    "            v2 = input(\"Enter the adjacent vertex for node \" + nodes[i] +\": \")        \n",
    "        vertex_pair = nodes[i],v2\n",
    "        vertex_pairs.append(vertex_pair)\n",
    "    return vertex_pairs\n",
    "    \n",
    "def enter_multiple_edges_per_node(nodes, vertex_pairs):\n",
    "    for i in range(len(nodes)):\n",
    "        v2 = ''\n",
    "        while(v2!='\\\\'):\n",
    "            v2 = input(\"Enter \\ to move on to next node, or enter adjacent vertex for node \" +nodes[i]+\": \")\n",
    "            if v2!='\\\\':\n",
    "                while v2 not in nodes:\n",
    "                    print(\"Invalid vertex. This vertex was not added.\")\n",
    "                    v2 = input(\"Enter \\ to move on to next node, or enter adjacent vertex for node \" +nodes[i]+\": \")\n",
    "                vertex_pair = nodes[i],v2\n",
    "                vertex_pairs.append(vertex_pair)\n",
    "    return vertex_pairs\n",
    "\n",
    "def create_edge_labels(vertex_pairs, labels, nodes):\n",
    "    x = input(\"Enter s for Single edge, or m for Multiple edges: \")\n",
    "    if(x=='m'):\n",
    "        vertex_pairs = enter_multiple_edges_per_node(nodes, vertex_pairs)\n",
    "    elif(x=='s'):\n",
    "        vertex_pairs = enter_single_edge_per_node(nodes, vertex_pairs)\n",
    "    else:\n",
    "        print(\"Invalid selection. Defaulting to Single edge.\")\n",
    "        vertex_pairs = enter_single_edge_per_node(nodes, vertex_pairs)\n",
    "        \n",
    "    i=0    \n",
    "    for v in vertex_pairs:    \n",
    "        i=i+1\n",
    "        edge = 'e' + str(i)\n",
    "        #print(\"Edge is labeled: \", edge)\n",
    "        labels.update({tuple(v):edge})\n",
    "    return labels, vertex_pairs   \n",
    "\n",
    "def create_graph(labels):\n",
    "    graph = input(\"Enter G for Graph or D for Directed Graph: \")\n",
    "    if(graph=='G') or (graph=='g'):\n",
    "        G=nx.Graph()\n",
    "    elif(graph=='D') or (graph=='d'):\n",
    "        G=nx.DiGraph()\n",
    "    else:\n",
    "        print(\"Invalid selection. Defaulting to Graph.\")\n",
    "        G=nx.Graph()\n",
    "        \n",
    "    G.add_edges_from(labels)\n",
    "    pos = nx.shell_layout(G)\n",
    "    plt.figure()    \n",
    "    nx.draw(G,pos,edge_color='skyblue',width=1,linewidths=1,node_size=800,node_color='skyblue', alpha=0.9, labels={node:node for node in G.nodes()})\n",
    "    nx.draw_networkx_edge_labels(G,pos,edge_labels=labels,font_color='black', font_size=12)\n",
    "    plt.axis('off')\n",
    "    plt.show()\n",
    "    return G\n",
    "\n",
    "def print_adj_matrix(graph):\n",
    "    print(\"Adjacency matrix: \")\n",
    "    A=nx.adjacency_matrix(graph)\n",
    "    print(A.todense())\n",
    "    print('\\n')\n",
    "\n",
    "def print_graph_stats(graph):\n",
    "    print(\"*Graph Statistics\")\n",
    "    print(\"----------------_-\")\n",
    "    print(\"Number of vertices:\" , len(graph))\n",
    "    print(\"Number of edges:\" , len(graph.edges))\n",
    "    print(\"Vertices:\", list(graph.nodes())) #data = True for metadata\n",
    "    print(\"Vertices with self loops:\", list(graph.nodes_with_selfloops()))\n",
    "    #print(\"Edges: \", list(G.edges))\n",
    "    print(\"Edge | vertex_pairs\")\n",
    "    for keys, values in labels.items():\n",
    "        print(' ',values,\"|\",'(%s)' % ', '.join(map(str, keys)))\n",
    "        \n",
    "def print_matrix(graph):\n",
    "    A = nx.to_numpy_matrix(graph)\n",
    "    fig = plt.figure()\n",
    "    ax1 = fig.add_subplot(121)\n",
    "    ax1.imshow(A, cmap=\"Blues\") #, interpolation='nearest' cmap=cm.Greys_r  \"Set3\"\n",
    "    ax1.set_xticks(np.arange(0,len(nodes), step=1))\n",
    "    ax1.set_xticklabels(nodes)\n",
    "    ax1.xaxis.tick_top()\n",
    "    ax1.xaxis.set_label_position('top')\n",
    "    #line = [(0, 5), (0, 0), (5, 0)]\n",
    "    #path = patches.Polygon(line, facecolor='none', edgecolor='black', linewidth=2, closed=True, joinstyle='round')\n",
    "    #ax1.add_patch(path)\n",
    "    plt.yticks(np.arange(0,len(nodes), step=1),nodes)\n",
    "    plt.show()\n",
    "    \n",
    "def print_path(graph,start,end):\n",
    "    for path in nx.all_simple_paths(graph, source=start, target=end):\n",
    "        print(path)\n",
    "        "
   ]
  },
  {
   "cell_type": "code",
   "execution_count": 3,
   "metadata": {},
   "outputs": [
    {
     "name": "stdout",
     "output_type": "stream",
     "text": [
      "Enter the amount of nodes you wish to add: 8\n",
      "Enter node 1: a\n",
      "Enter node 2: b\n",
      "Enter node 3: c\n",
      "Enter node 4: d\n",
      "Enter node 5: e\n",
      "Enter node 6: f\n",
      "Enter node 7: g\n",
      "Enter node 8: h\n",
      "Enter s for Single edge, or m for Multiple edges: m\n",
      "Enter \\ to move on to next node, or enter adjacent vertex for node a: b\n",
      "Enter \\ to move on to next node, or enter adjacent vertex for node a: c\n",
      "Enter \\ to move on to next node, or enter adjacent vertex for node a: d\n",
      "Enter \\ to move on to next node, or enter adjacent vertex for node a: e\n",
      "Enter \\ to move on to next node, or enter adjacent vertex for node a: f\n",
      "Enter \\ to move on to next node, or enter adjacent vertex for node a: a\n",
      "Enter \\ to move on to next node, or enter adjacent vertex for node a: g\n",
      "Enter \\ to move on to next node, or enter adjacent vertex for node a: h\n",
      "Enter \\ to move on to next node, or enter adjacent vertex for node a: i\n",
      "Invalid vertex. This vertex was not added.\n",
      "Enter \\ to move on to next node, or enter adjacent vertex for node a: \\\n",
      "Invalid vertex. This vertex was not added.\n",
      "Enter \\ to move on to next node, or enter adjacent vertex for node a: \n",
      "Invalid vertex. This vertex was not added.\n",
      "Enter \\ to move on to next node, or enter adjacent vertex for node a: \\\n",
      "Invalid vertex. This vertex was not added.\n",
      "Enter \\ to move on to next node, or enter adjacent vertex for node a: \\\n",
      "Invalid vertex. This vertex was not added.\n",
      "Enter \\ to move on to next node, or enter adjacent vertex for node a: b\n",
      "Enter \\ to move on to next node, or enter adjacent vertex for node a: \\\n",
      "Enter \\ to move on to next node, or enter adjacent vertex for node b: a\n",
      "Enter \\ to move on to next node, or enter adjacent vertex for node b: \\\n",
      "Enter \\ to move on to next node, or enter adjacent vertex for node c: d\n",
      "Enter \\ to move on to next node, or enter adjacent vertex for node c: \\\n",
      "Enter \\ to move on to next node, or enter adjacent vertex for node d: e\n",
      "Enter \\ to move on to next node, or enter adjacent vertex for node d: \\\n",
      "Enter \\ to move on to next node, or enter adjacent vertex for node e: f\n",
      "Enter \\ to move on to next node, or enter adjacent vertex for node e: g\n",
      "Enter \\ to move on to next node, or enter adjacent vertex for node e: b\n",
      "Enter \\ to move on to next node, or enter adjacent vertex for node e: \\\n",
      "Enter \\ to move on to next node, or enter adjacent vertex for node f: \\\n",
      "Enter \\ to move on to next node, or enter adjacent vertex for node g: h\n",
      "Enter \\ to move on to next node, or enter adjacent vertex for node g: a\n",
      "Enter \\ to move on to next node, or enter adjacent vertex for node g: \\\n",
      "Enter \\ to move on to next node, or enter adjacent vertex for node h: b\n",
      "Enter \\ to move on to next node, or enter adjacent vertex for node h: \\\n",
      "Enter G for Graph or D for Directed Graph: d\n"
     ]
    },
    {
     "data": {
      "image/png": "[encoded data removed]",
      "text/plain": [
       "<matplotlib.figure.Figure at 0x1f7c7ff0048>"
      ]
     },
     "metadata": {},
     "output_type": "display_data"
    }
   ],
   "source": [
    "nodes = enter_nodes()\n",
    "labels, vertex_pairs = create_edge_labels(vertex_pairs, labels, nodes)  \n",
    "G = create_graph(labels)\n",
    "plt.show()"
   ]
  },
  {
   "cell_type": "code",
   "execution_count": 4,
   "metadata": {},
   "outputs": [
    {
     "name": "stdout",
     "output_type": "stream",
     "text": [
      "Adjacency matrix: \n",
      "[[1 1 1 1 1 1 1 1]\n",
      " [1 0 0 0 0 0 0 0]\n",
      " [0 0 0 1 0 0 0 0]\n",
      " [0 0 0 0 1 0 0 0]\n",
      " [0 1 0 0 0 1 1 0]\n",
      " [0 0 0 0 0 0 0 0]\n",
      " [1 0 0 0 0 0 0 1]\n",
      " [0 1 0 0 0 0 0 0]]\n",
      "\n",
      "\n"
     ]
    }
   ],
   "source": [
    "print_adj_matrix(G)"
   ]
  },
  {
   "cell_type": "code",
   "execution_count": 5,
   "metadata": {},
   "outputs": [
    {
     "name": "stdout",
     "output_type": "stream",
     "text": [
      "*Graph Statistics\n",
      "----------------_-\n",
      "Number of vertices: 8\n",
      "Number of edges: 17\n",
      "Vertices: ['a', 'b', 'c', 'd', 'e', 'f', 'g', 'h']\n",
      "Vertices with self loops: ['a']\n",
      "Edge | vertex_pairs\n",
      "  e9 | (a, b)\n",
      "  e2 | (a, c)\n",
      "  e3 | (a, d)\n",
      "  e4 | (a, e)\n",
      "  e5 | (a, f)\n",
      "  e6 | (a, a)\n",
      "  e7 | (a, g)\n",
      "  e8 | (a, h)\n",
      "  e10 | (b, a)\n",
      "  e11 | (c, d)\n",
      "  e12 | (d, e)\n",
      "  e13 | (e, f)\n",
      "  e14 | (e, g)\n",
      "  e15 | (e, b)\n",
      "  e16 | (g, h)\n",
      "  e17 | (g, a)\n",
      "  e18 | (h, b)\n"
     ]
    }
   ],
   "source": [
    "print_graph_stats(G)"
   ]
  },
  {
   "cell_type": "code",
   "execution_count": 6,
   "metadata": {},
   "outputs": [
    {
     "data": {
      "image/png": "[encoded data removed]",
      "text/plain": [
       "<matplotlib.figure.Figure at 0x1f7ca534dd8>"
      ]
     },
     "metadata": {},
     "output_type": "display_data"
    }
   ],
   "source": [
    "print_matrix(G)"
   ]
  },
  {
   "cell_type": "code",
   "execution_count": 7,
   "metadata": {},
   "outputs": [
    {
     "name": "stdout",
     "output_type": "stream",
     "text": [
      "Enter starting vertex for path: a\n",
      "Enter terminating vertex for path: e\n",
      "Simple paths from a to e :\n",
      "['a', 'c', 'd', 'e']\n",
      "['a', 'd', 'e']\n",
      "['a', 'e']\n"
     ]
    }
   ],
   "source": [
    "start = input(\"Enter starting vertex for path: \")\n",
    "end = input(\"Enter terminating vertex for path: \")\n",
    "print(\"Simple paths from\", start, \"to\", end, \":\")\n",
    "print_path(G,start,end)"
   ]
  },
  {
   "cell_type": "code",
   "execution_count": 8,
   "metadata": {},
   "outputs": [
    {
     "data": {
      "text/plain": [
       "[['b', 'a', 'h'],\n",
       " ['b', 'a', 'g', 'h'],\n",
       " ['b', 'a', 'e'],\n",
       " ['b', 'a', 'e', 'g', 'h'],\n",
       " ['b', 'a', 'd', 'e'],\n",
       " ['b', 'a', 'd', 'e', 'g', 'h'],\n",
       " ['b', 'a', 'c', 'd', 'e'],\n",
       " ['b', 'a', 'c', 'd', 'e', 'g', 'h'],\n",
       " ['b', 'a'],\n",
       " ['e', 'g', 'a'],\n",
       " ['e', 'g', 'a', 'd'],\n",
       " ['e', 'g', 'a', 'c', 'd'],\n",
       " ['g', 'a'],\n",
       " ['a']]"
      ]
     },
     "execution_count": 8,
     "metadata": {},
     "output_type": "execute_result"
    }
   ],
   "source": [
    "#nx.find_cycle(G)\n",
    "list(nx.simple_cycles(G))"
   ]
  }
 ],
 "metadata": {
  "kernelspec": {
   "display_name": "Python 3",
   "language": "python",
   "name": "python3"
  },
  "language_info": {
   "codemirror_mode": {
    "name": "ipython",
    "version": 3
   },
   "file_extension": ".py",
   "mimetype": "text/x-python",
   "name": "python",
   "nbconvert_exporter": "python",
   "pygments_lexer": "ipython3",
   "version": "3.6.3"
  },
  "latex_envs": {
   "LaTeX_envs_menu_present": true,
   "autoclose": false,
   "autocomplete": true,
   "bibliofile": "biblio.bib",
   "cite_by": "apalike",
   "current_citInitial": 1,
   "eqLabelWithNumbers": true,
   "eqNumInitial": 1,
   "hotkeys": {
    "equation": "Ctrl-E",
    "itemize": "Ctrl-I"
   },
   "labels_anchors": false,
   "latex_user_defs": false,
   "report_style_numbering": false,
   "user_envs_cfg": false
  }
 },
 "nbformat": 4,
 "nbformat_minor": 2
}
